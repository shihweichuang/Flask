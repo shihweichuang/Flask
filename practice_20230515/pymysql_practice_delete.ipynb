{
 "cells": [
  {
   "cell_type": "code",
   "execution_count": 1,
   "id": "b04b632f",
   "metadata": {},
   "outputs": [],
   "source": [
    "# 引入必要套件\n",
    "import pymysql\n",
    "\n",
    "# 設定資料庫連線資訊\n",
    "credential_dict = {\n",
    "    \"host\": \"127.0.0.1\",         # 也可以輸入localhost\n",
    "    \"port\": 3306,\n",
    "    \"user\": \"待填\",\n",
    "    \"passwd\": \"待填\",   # 需輸入資料庫登入密碼\n",
    "    \"db\": \"待填\",              # 輸入資料庫名稱\n",
    "    \"charset\": \"utf8mb4\",\n",
    "}\n",
    "\n",
    "# 字典最後可以再加一逗點，仍可以正常執行(有助git閱讀比較)\n",
    "\n",
    "# 建立連線\n",
    "conn = pymysql.connect(**credential_dict)\n",
    "\n",
    "# 建立游標\n",
    "cursor = conn.cursor()"
   ]
  },
  {
   "attachments": {},
   "cell_type": "markdown",
   "id": "481b7ab9",
   "metadata": {},
   "source": [
    "# Delete"
   ]
  },
  {
   "cell_type": "code",
   "execution_count": 2,
   "id": "f3893e12",
   "metadata": {},
   "outputs": [
    {
     "data": {
      "text/plain": [
       "2"
      ]
     },
     "execution_count": 2,
     "metadata": {},
     "output_type": "execute_result"
    }
   ],
   "source": [
    "# 先寫好 SQL 語法\n",
    "sql = \"\"\"\n",
    "DELETE FROM Staff;\n",
    "\"\"\"\n",
    "\n",
    "# 將指令放進 cursor 物件，並執行\n",
    "cursor.execute(sql)"
   ]
  },
  {
   "cell_type": "code",
   "execution_count": 3,
   "id": "ff39b257",
   "metadata": {},
   "outputs": [],
   "source": [
    "conn.commit()   # commit後才會顯示插入資料"
   ]
  },
  {
   "cell_type": "code",
   "execution_count": 4,
   "id": "805c599c",
   "metadata": {},
   "outputs": [],
   "source": [
    "# 關閉連線\n",
    "cursor.close()\n",
    "conn.close()"
   ]
  },
  {
   "cell_type": "code",
   "execution_count": null,
   "id": "c60bda5a",
   "metadata": {},
   "outputs": [],
   "source": []
  }
 ],
 "metadata": {
  "kernelspec": {
   "display_name": "Python 3 (ipykernel)",
   "language": "python",
   "name": "python3"
  },
  "language_info": {
   "codemirror_mode": {
    "name": "ipython",
    "version": 3
   },
   "file_extension": ".py",
   "mimetype": "text/x-python",
   "name": "python",
   "nbconvert_exporter": "python",
   "pygments_lexer": "ipython3",
   "version": "3.8.10"
  }
 },
 "nbformat": 4,
 "nbformat_minor": 5
}
