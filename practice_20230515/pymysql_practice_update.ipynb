{
 "cells": [
  {
   "cell_type": "code",
   "execution_count": 1,
   "id": "b04b632f",
   "metadata": {},
   "outputs": [],
   "source": [
    "# 引入必要套件\n",
    "import pymysql\n",
    "\n",
    "# 設定資料庫連線資訊\n",
    "credential_dict = {\n",
    "    \"host\": \"127.0.0.1\",         # 也可以輸入localhost\n",
    "    \"port\": 3306,\n",
    "    \"user\": \"待填\",\n",
    "    \"passwd\": \"待填\",   # 需輸入資料庫登入密碼\n",
    "    \"db\": \"待填\",              # 輸入資料庫名稱\n",
    "    \"charset\": \"utf8mb4\",\n",
    "}\n",
    "\n",
    "# 字典最後可以再加一逗點，仍可以正常執行(有助git閱讀比較)\n",
    "\n",
    "# 建立連線\n",
    "conn = pymysql.connect(**credential_dict)\n",
    "\n",
    "# 建立游標\n",
    "cursor = conn.cursor()"
   ]
  },
  {
   "attachments": {},
   "cell_type": "markdown",
   "id": "481b7ab9",
   "metadata": {},
   "source": [
    "# Update"
   ]
  },
  {
   "cell_type": "code",
   "execution_count": 2,
   "id": "f3893e12",
   "metadata": {},
   "outputs": [
    {
     "data": {
      "text/plain": [
       "2"
      ]
     },
     "execution_count": 2,
     "metadata": {},
     "output_type": "execute_result"
    }
   ],
   "source": [
    "# 先寫好 SQL 語法\n",
    "sql = \"\"\"\n",
    "UPDATE testdb.staff SET Salary = Salary * 1.1;\n",
    "\"\"\"\n",
    "\n",
    "# 將指令放進 cursor 物件，並執行\n",
    "cursor.execute(sql)"
   ]
  },
  {
   "cell_type": "code",
   "execution_count": 3,
   "id": "ff39b257",
   "metadata": {},
   "outputs": [],
   "source": [
    "conn.commit()   # commit後才會顯示插入資料"
   ]
  },
  {
   "cell_type": "code",
   "execution_count": null,
   "id": "7dd290df",
   "metadata": {},
   "outputs": [],
   "source": [
    "# import time\n",
    "# t = time.localtime()\n",
    "# dt = time.strftime('%Y-%m-%d %H:%M:%S', t)\n",
    "\n",
    "# # 試著再 INSERT 一筆資料\n",
    "# sql = \"\"\"\n",
    "# INSERT INTO Staff (ID, Name, DeptId, Age, Gender, Salary, recordDt)\n",
    "# VALUES ('002', 'Judy', '002', 30, 'F', 48000, '{}');\n",
    "# \"\"\".format(dt)\n",
    "\n",
    "# # 將指令放進 cursor 物件，並執行\n",
    "# cursor.execute(sql)\n",
    "# conn.commit()"
   ]
  },
  {
   "cell_type": "code",
   "execution_count": null,
   "id": "2d4dc372",
   "metadata": {},
   "outputs": [],
   "source": [
    "# 從資料庫將 datetime 型態的資料取出後，在 Python 中會變成 datetime 物件\n",
    "# 將 datetime 物件轉為字串\n",
    "data[1][6].strftime('%Y-%m-%d %H:%M:%S')"
   ]
  },
  {
   "cell_type": "code",
   "execution_count": null,
   "id": "9e43950f",
   "metadata": {},
   "outputs": [],
   "source": [
    "# 試著將資料表中的資料取出\n",
    "# 先寫好 SQL 語法\n",
    "sql = \"\"\"\n",
    "SELECT * FROM Staff;\n",
    "\"\"\"\n",
    "\n",
    "# 將指令放進 cursor 物件，並執行\n",
    "cursor.execute(sql)"
   ]
  },
  {
   "attachments": {},
   "cell_type": "markdown",
   "id": "4044b3fc",
   "metadata": {},
   "source": [
    "# fetchone"
   ]
  },
  {
   "cell_type": "code",
   "execution_count": null,
   "id": "60563d8e",
   "metadata": {},
   "outputs": [],
   "source": [
    "cursor.fetchone()"
   ]
  },
  {
   "cell_type": "code",
   "execution_count": null,
   "id": "25fda8c8",
   "metadata": {},
   "outputs": [],
   "source": [
    "cursor.fetchone()"
   ]
  },
  {
   "cell_type": "code",
   "execution_count": null,
   "id": "42127395",
   "metadata": {},
   "outputs": [],
   "source": [
    "cursor.fetchone() # 執行第三次就沒資料(因為目前僅有兩筆資料)"
   ]
  },
  {
   "cell_type": "code",
   "execution_count": null,
   "id": "03d17485",
   "metadata": {},
   "outputs": [],
   "source": [
    "cursor.execute(sql)"
   ]
  },
  {
   "attachments": {},
   "cell_type": "markdown",
   "id": "e8445e88",
   "metadata": {},
   "source": [
    "# fetchall"
   ]
  },
  {
   "cell_type": "code",
   "execution_count": null,
   "id": "2218d239",
   "metadata": {},
   "outputs": [],
   "source": [
    "# 將查詢結果取出\n",
    "data = cursor.fetchall()\n",
    "data"
   ]
  },
  {
   "cell_type": "code",
   "execution_count": null,
   "id": "805c599c",
   "metadata": {},
   "outputs": [],
   "source": [
    "# 關閉連線\n",
    "cursor.close()\n",
    "conn.close()"
   ]
  },
  {
   "cell_type": "code",
   "execution_count": null,
   "id": "c60bda5a",
   "metadata": {},
   "outputs": [],
   "source": []
  }
 ],
 "metadata": {
  "kernelspec": {
   "display_name": "Python 3 (ipykernel)",
   "language": "python",
   "name": "python3"
  },
  "language_info": {
   "codemirror_mode": {
    "name": "ipython",
    "version": 3
   },
   "file_extension": ".py",
   "mimetype": "text/x-python",
   "name": "python",
   "nbconvert_exporter": "python",
   "pygments_lexer": "ipython3",
   "version": "3.8.10"
  }
 },
 "nbformat": 4,
 "nbformat_minor": 5
}
